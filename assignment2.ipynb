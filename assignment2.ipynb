{
 "cells": [
  {
   "cell_type": "code",
   "execution_count": 1,
   "id": "90dcefaf",
   "metadata": {},
   "outputs": [
    {
     "name": "stdout",
     "output_type": "stream",
     "text": [
      "{1, 2, 3, 4, 5, 6, 7, 8, 9, 10}\n"
     ]
    }
   ],
   "source": [
    "numbers=set(range(1,11))\n",
    "print(numbers)"
   ]
  },
  {
   "cell_type": "code",
   "execution_count": 2,
   "id": "e99e6b5d",
   "metadata": {},
   "outputs": [
    {
     "name": "stdout",
     "output_type": "stream",
     "text": [
      "{2, 3, 4, 5, 6, 7, 8, 9, 10, 11}\n"
     ]
    }
   ],
   "source": [
    "numbers.add(11)\n",
    "numbers.remove(1)\n",
    "print(numbers)"
   ]
  },
  {
   "cell_type": "code",
   "execution_count": 4,
   "id": "91a94064",
   "metadata": {},
   "outputs": [
    {
     "name": "stdout",
     "output_type": "stream",
     "text": [
      "{1, 2, 3, 4, 5, 6, 8, 10}\n",
      "{2, 4}\n",
      "{1, 3, 5}\n",
      "{1, 3, 5, 6, 8, 10}\n"
     ]
    }
   ],
   "source": [
    "set1=set(range(1,6))\n",
    "set2=set(range(2,11,2))\n",
    "print(set1.union(set2))\n",
    "print(set1.intersection(set2))\n",
    "print(set1.difference(set2))\n",
    "print(set1.symmetric_difference(set2))"
   ]
  },
  {
   "cell_type": "code",
   "execution_count": 5,
   "id": "74da686c",
   "metadata": {},
   "outputs": [
    {
     "name": "stdout",
     "output_type": "stream",
     "text": [
      "{2, 4, 6, 8, 10}\n"
     ]
    }
   ],
   "source": [
    "even={x for x in numbers if x%2==0}\n",
    "print(even)"
   ]
  },
  {
   "cell_type": "code",
   "execution_count": 6,
   "id": "7054aa03",
   "metadata": {},
   "outputs": [
    {
     "name": "stdout",
     "output_type": "stream",
     "text": [
      "After removing 1 : {2, 3, 4, 5}\n",
      "After removing 2 : {3, 4, 5}\n",
      "After removing 3 : {4, 5}\n",
      "After removing 4 : {5}\n",
      "After removing 5 : set()\n"
     ]
    }
   ],
   "source": [
    "numbers = set(range(1, 6))  \n",
    "\n",
    "while numbers:\n",
    "  \n",
    "    removed = numbers.pop()\n",
    "    print(\"After removing\", removed, \":\", numbers)"
   ]
  },
  {
   "cell_type": "code",
   "execution_count": 8,
   "id": "c6199de2",
   "metadata": {},
   "outputs": [
    {
     "name": "stdout",
     "output_type": "stream",
     "text": [
      "{1: 1, 2: 4, 3: 9, 4: 16, 5: 25, 6: 36, 7: 49, 8: 64, 9: 81, 10: 100}\n"
     ]
    }
   ],
   "source": [
    "squares = {x: x*x for x in range(1, 11)}\n",
    "print(squares)"
   ]
  },
  {
   "cell_type": "code",
   "execution_count": 12,
   "id": "f6f07569",
   "metadata": {},
   "outputs": [
    {
     "name": "stdout",
     "output_type": "stream",
     "text": [
      "Value of key 5: 25\n",
      "Keys of the dictionary: dict_keys([1, 2, 3, 4, 5, 6, 7, 8, 9, 10])\n"
     ]
    }
   ],
   "source": [
    "print(\"Value of key 5:\", squares[5])\n",
    "print(\"Keys of the dictionary:\", squares.keys())"
   ]
  },
  {
   "cell_type": "code",
   "execution_count": 13,
   "id": "b276d936",
   "metadata": {},
   "outputs": [
    {
     "name": "stdout",
     "output_type": "stream",
     "text": [
      "Key: 1, Value: 1\n",
      "Key: 2, Value: 4\n",
      "Key: 3, Value: 9\n",
      "Key: 4, Value: 16\n",
      "Key: 5, Value: 25\n",
      "Key: 6, Value: 36\n",
      "Key: 7, Value: 49\n",
      "Key: 8, Value: 64\n",
      "Key: 9, Value: 81\n",
      "Key: 10, Value: 100\n"
     ]
    }
   ],
   "source": [
    "squares = {x: x**2 for x in range(1, 11)}\n",
    "\n",
    "for key, value in squares.items():\n",
    "    print(f\"Key: {key}, Value: {value}\")\n"
   ]
  },
  {
   "cell_type": "code",
   "execution_count": 14,
   "id": "3c13c771",
   "metadata": {},
   "outputs": [
    {
     "name": "stdout",
     "output_type": "stream",
     "text": [
      "{1: 1, 2: 8, 3: 27, 4: 64, 5: 125, 6: 216, 7: 343, 8: 512, 9: 729, 10: 1000}\n"
     ]
    }
   ],
   "source": [
    "cubes = {x: x**3 for x in range(1, 11)}\n",
    "print(cubes)\n"
   ]
  },
  {
   "cell_type": "code",
   "execution_count": 15,
   "id": "b81bfc16",
   "metadata": {},
   "outputs": [
    {
     "name": "stdout",
     "output_type": "stream",
     "text": [
      "{1: [1, 2, 3, 4, 5], 2: [2, 4, 6, 8, 10], 3: [3, 6, 9, 12, 15], 4: [4, 8, 12, 16, 20], 5: [5, 10, 15, 20, 25]}\n"
     ]
    }
   ],
   "source": [
    "multiples = {x: [x * i for i in range(1, 6)] for x in range(1, 6)}\n",
    "print(multiples)\n"
   ]
  },
  {
   "cell_type": "code",
   "execution_count": 2,
   "id": "d9a1cdb9",
   "metadata": {},
   "outputs": [
    {
     "name": "stdout",
     "output_type": "stream",
     "text": [
      "[(1, 1), (2, 4), (3, 9), (4, 16), (5, 25)]\n"
     ]
    }
   ],
   "source": [
    "squares_5 = {x: x**2 for x in range(1, 6)}\n",
    "tuples = list(squares_5.items())\n",
    "print(tuples)\n"
   ]
  },
  {
   "cell_type": "code",
   "execution_count": 1,
   "id": "ade37de6",
   "metadata": {},
   "outputs": [
    {
     "name": "stdout",
     "output_type": "stream",
     "text": [
      "{'h': 1, 'e': 1, 'l': 3, 'o': 2, ' ': 1, 'w': 1, 'r': 1, 'd': 1}\n"
     ]
    }
   ],
   "source": [
    "def count_characters(s):\n",
    "    counts = {}\n",
    "    for char in s:\n",
    "        counts[char] = counts.get(char, 0) + 1\n",
    "    return counts\n",
    "\n",
    "example_string = \"hello world\"\n",
    "print(count_characters(example_string))\n"
   ]
  }
 ],
 "metadata": {
  "kernelspec": {
   "display_name": "Python 3",
   "language": "python",
   "name": "python3"
  },
  "language_info": {
   "codemirror_mode": {
    "name": "ipython",
    "version": 3
   },
   "file_extension": ".py",
   "mimetype": "text/x-python",
   "name": "python",
   "nbconvert_exporter": "python",
   "pygments_lexer": "ipython3",
   "version": "3.12.11"
  }
 },
 "nbformat": 4,
 "nbformat_minor": 5
}
